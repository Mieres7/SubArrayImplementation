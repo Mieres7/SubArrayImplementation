{
 "cells": [
  {
   "cell_type": "code",
   "execution_count": null,
   "metadata": {},
   "outputs": [
    {
     "name": "stdout",
     "output_type": "stream",
     "text": [
      "['SKA063', 'SKA001', 'SKA100', 'SKA036', 'SKA046', 'SKA048', 'SKA077', 'SKA081', 'SKA015', 'SKA025', 'SKA037', 'SKA008', 'SKA013', 'SKA014', 'SKA016', 'SKA019', 'SKA027', 'SKA028', 'SKA030', 'SKA032', 'SKA033', 'SKA035', 'SKA038', 'SKA039', 'SKA040', 'SKA041', 'SKA042', 'SKA043', 'SKA024', 'SKA045', 'SKA049', 'SKA050', 'SKA031', 'SKA034', 'SKA055', 'SKA061', 'SKA067', 'SKA068', 'SKA070', 'SKA075', 'SKA079', 'SKA082', 'SKA083', 'SKA089', 'SKA091', 'SKA092', 'SKA095', 'SKA096', 'SKA114', 'SKA098', 'SKA099', 'SKA101', 'SKA102', 'SKA103', 'SKA104', 'SKA106', 'SKA108', 'SKA109', 'SKA113', 'SKA123', 'SKA125', 'SKA126', 'SKA097', 'SKA051', 'SKA017', 'SKA018', 'SKA020', 'SKA023', 'SKA060', 'SKA105', 'SKA107', 'SKA110', 'SKA115', 'SKA116', 'SKA117', 'SKA118', 'SKA119', 'SKA121', 'SKA026', 'SKA111', 'M000', 'M001', 'M002', 'M003', 'M004', 'M005', 'M006', 'M007', 'M008', 'M009', 'M010', 'M011', 'M012', 'M013', 'M014', 'M015', 'M016', 'M017', 'M018', 'M019', 'M020', 'M021', 'M022', 'M023', 'M024', 'M025', 'M026', 'M027', 'M028', 'M029', 'M030', 'M031', 'M032', 'M033', 'M034', 'M035', 'M036', 'M037', 'M038', 'M039', 'M040', 'M041', 'M042', 'M043', 'M044', 'M045', 'M046', 'M047', 'M048', 'M049', 'M050', 'M051', 'M052', 'M053', 'M054', 'M055', 'M056', 'M057', 'M058', 'M059', 'M060', 'M061', 'M062', 'M063']\n"
     ]
    }
   ],
   "source": [
    "from mid_subarray import MidSubArray\n",
    "\n",
    "array = MidSubArray(\"AA*\")\n",
    "\n",
    "print(array.antenna_data)\n",
    "print(array.antenna_names)\n",
    "\n"
   ]
  }
 ],
 "metadata": {
  "kernelspec": {
   "display_name": "Python 3",
   "language": "python",
   "name": "python3"
  },
  "language_info": {
   "codemirror_mode": {
    "name": "ipython",
    "version": 3
   },
   "file_extension": ".py",
   "mimetype": "text/x-python",
   "name": "python",
   "nbconvert_exporter": "python",
   "pygments_lexer": "ipython3",
   "version": "3.10.0"
  }
 },
 "nbformat": 4,
 "nbformat_minor": 2
}
