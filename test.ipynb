{
 "cells": [
  {
   "cell_type": "code",
   "execution_count": 9,
   "metadata": {},
   "outputs": [
    {
     "name": "stdout",
     "output_type": "stream",
     "text": [
      "dask.array<array, shape=(4, 3), dtype=float32, chunksize=(4, 3), chunktype=numpy.ndarray>\n",
      "['SKA063', 'SKA001', 'SKA100', 'SKA036']\n",
      "dask.array<getitem, shape=(4,), dtype=float32, chunksize=(4,), chunktype=numpy.ndarray>\n",
      "dask.array<array, shape=(307, 3), dtype=float32, chunksize=(307, 3), chunktype=numpy.ndarray>\n",
      "['S1-1', 'S1-2', 'S2-1', 'S2-2', 'S2-3', 'S3-1', 'S3-2', 'S4-1', 'S4-2', 'S4-3', 'S8-1', 'S8-2', 'S8-3', 'S8-4', 'S8-5', 'S8-6', 'S9-1', 'S9-2', 'S9-3', 'S9-4', 'S10-1', 'S10-2', 'S10-3', 'S10-4', 'S10-5', 'S10-6', 'S13-1', 'S13-2', 'S13-3', 'S13-4', 'S15-1', 'S15-2', 'S15-3', 'S15-4', 'S16-1', 'S16-2', 'S16-3', 'S16-4', 'N1-1', 'N1-2', 'N2-1', 'N2-2', 'N2-3', 'N3-1', 'N3-2', 'N3-3', 'N4-1', 'N4-2', 'N4-3', 'N8-1', 'N8-2', 'N8-3', 'N8-4', 'N9-1', 'N9-2', 'N9-3', 'N9-4', 'N10-1', 'N10-2', 'N10-3', 'N10-4', 'N13-1', 'N13-2', 'N13-3', 'N13-4', 'N15-1', 'N15-2', 'N15-3', 'N15-4', 'N16-1', 'N16-2', 'N16-3', 'N16-4', 'E1-1', 'E1-2', 'E2-1', 'E2-2', 'E2-3', 'E3-1', 'E3-2', 'E3-3', 'E4-1', 'E4-2', 'E4-3', 'E8-1', 'E8-2', 'E8-3', 'E8-4', 'E9-1', 'E9-2', 'E9-3', 'E9-4', 'E10-1', 'E10-2', 'E10-3', 'E10-4', 'E13-1', 'E13-2', 'E13-3', 'E13-4', 'E15-1', 'E15-2', 'E15-3', 'E15-4', 'E16-1', 'E16-2', 'E16-3', 'E16-4', 'C66', 'C111', 'C22', 'C69', 'C80', 'C30', 'C78', 'C91', 'C23', 'C36', 'C108', 'C52', 'C193', 'C16', 'C98', 'C56', 'C146', 'C70', 'C200', 'C57', 'C132', 'C62', 'C90', 'C73', 'C183', 'C176', 'C17', 'C88', 'C32', 'C31', 'C33', 'C89', 'C59', 'C165', 'C8', 'C158', 'C144', 'C72', 'C4', 'C167', 'C14', 'C185', 'C142', 'C19', 'C224', 'C7', 'C160', 'C74', 'C42', 'C171', 'C79', 'C96', 'C27', 'C75', 'C85', 'C212', 'C15', 'C63', 'C205', 'C24', 'C29', 'C25', 'C112', 'C187', 'C84', 'C1', 'C120', 'C175', 'C44', 'C38', 'C67', 'C54', 'C155', 'C49', 'C170', 'C87', 'C216', 'C105', 'C35', 'C156', 'C121', 'C86', 'C58', 'C150', 'C60', 'C143', 'C68', 'C151', 'C18', 'C45', 'C100', 'C76', 'C195', 'C107', 'C34', 'C172', 'C20', 'C64', 'C191', 'C115', 'C2', 'C125', 'C48', 'C71', 'C61', 'C130', 'C55', 'C202', 'C223', 'C140', 'C37', 'C41', 'C46', 'C139', 'C213', 'C104', 'C9', 'C99', 'C13', 'C192', 'C114', 'C204', 'C21', 'C12', 'C147', 'C82', 'C103', 'C138', 'C106', 'C11', 'C119', 'C6', 'C194', 'C5', 'C93', 'C168', 'C28', 'C197', 'C154', 'C26', 'C92', 'C110', 'C77', 'C50', 'C10', 'C53', 'C95', 'C166', 'C40', 'C128', 'C162', 'C113', 'C222', 'C129', 'C214', 'C102', 'C65', 'C109', 'C97', 'C123', 'C141', 'C39', 'C83', 'C148', 'C198', 'C81', 'C3', 'C135', 'C51', 'C145', 'C207', 'C149', 'C137', 'C43', 'C163', 'C101', 'C181', 'C180', 'C117', 'C206', 'C126', 'C177', 'C124', 'C133', 'C208', 'C190', 'C153', 'C164', 'C173', 'C219', 'C201', 'C184', 'C217', 'C203', 'C186', 'C199', 'C161', 'C179', 'C47']\n",
      "dask.array<getitem, shape=(307,), dtype=float32, chunksize=(307,), chunktype=numpy.ndarray>\n"
     ]
    }
   ],
   "source": [
    "from mid_subarray import MidSubArray\n",
    "from low_subarray import LowSubarray\n",
    "\n",
    "mid_aa4_array = MidSubArray(\"AA0.5\")\n",
    "\n",
    "print(mid_aa4_array.antenna_data)\n",
    "print(mid_aa4_array.antenna_names)\n",
    "print(mid_aa4_array.diameters)\n",
    "\n",
    "\n",
    "low_aastar_array = LowSubarray()\n",
    "\n",
    "print(low_aastar_array.antenna_data)\n",
    "print(low_aastar_array.antenna_names)\n",
    "print(low_aastar_array.diameters)"
   ]
  },
  {
   "cell_type": "code",
   "execution_count": 10,
   "metadata": {},
   "outputs": [
    {
     "name": "stdout",
     "output_type": "stream",
     "text": [
      "[[ 5109058.   2007302.4 -3239167. ]]\n",
      "['SKA001']\n"
     ]
    }
   ],
   "source": [
    "from Filter.name_filter import IdFilter\n",
    "\n",
    "\n",
    "idFilter = IdFilter(ids=[\"SKA001\", \"SKA002\"])\n",
    "\n",
    "aa4_with_only_ska = idFilter.filter(array=mid_aa4_array)\n",
    "\n",
    "print(aa4_with_only_ska.antenna_data)\n",
    "\n",
    "print(aa4_with_only_ska.antenna_names)\n",
    "\n"
   ]
  }
 ],
 "metadata": {
  "kernelspec": {
   "display_name": "Python 3",
   "language": "python",
   "name": "python3"
  },
  "language_info": {
   "codemirror_mode": {
    "name": "ipython",
    "version": 3
   },
   "file_extension": ".py",
   "mimetype": "text/x-python",
   "name": "python",
   "nbconvert_exporter": "python",
   "pygments_lexer": "ipython3",
   "version": "3.10.0"
  }
 },
 "nbformat": 4,
 "nbformat_minor": 2
}
