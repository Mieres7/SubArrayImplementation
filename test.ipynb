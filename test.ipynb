{
 "cells": [
  {
   "cell_type": "code",
   "execution_count": 1,
   "metadata": {},
   "outputs": [
    {
     "name": "stdout",
     "output_type": "stream",
     "text": [
      "dask.array<array, shape=(197, 3), dtype=float32, chunksize=(197, 3), chunktype=numpy.ndarray>\n",
      "['SKA063', 'SKA001', 'SKA100', 'SKA036', 'SKA046', 'SKA048', 'SKA077', 'SKA081', 'SKA015', 'SKA025', 'SKA037', 'SKA008', 'SKA013', 'SKA014', 'SKA016', 'SKA019', 'SKA027', 'SKA028', 'SKA030', 'SKA032', 'SKA033', 'SKA035', 'SKA038', 'SKA039', 'SKA040', 'SKA041', 'SKA042', 'SKA043', 'SKA024', 'SKA045', 'SKA049', 'SKA050', 'SKA031', 'SKA034', 'SKA055', 'SKA061', 'SKA067', 'SKA068', 'SKA070', 'SKA075', 'SKA079', 'SKA082', 'SKA083', 'SKA089', 'SKA091', 'SKA092', 'SKA095', 'SKA096', 'SKA114', 'SKA098', 'SKA099', 'SKA101', 'SKA102', 'SKA103', 'SKA104', 'SKA106', 'SKA108', 'SKA109', 'SKA113', 'SKA123', 'SKA125', 'SKA126', 'SKA097', 'SKA051', 'SKA017', 'SKA018', 'SKA020', 'SKA023', 'SKA060', 'SKA105', 'SKA107', 'SKA110', 'SKA115', 'SKA116', 'SKA117', 'SKA118', 'SKA119', 'SKA121', 'SKA026', 'SKA111', 'M000', 'M001', 'M002', 'M003', 'M004', 'M005', 'M006', 'M007', 'M008', 'M009', 'M010', 'M011', 'M012', 'M013', 'M014', 'M015', 'M016', 'M017', 'M018', 'M019', 'M020', 'M021', 'M022', 'M023', 'M024', 'M025', 'M026', 'M027', 'M028', 'M029', 'M030', 'M031', 'M032', 'M033', 'M034', 'M035', 'M036', 'M037', 'M038', 'M039', 'M040', 'M041', 'M042', 'M043', 'M044', 'M045', 'M046', 'M047', 'M048', 'M049', 'M050', 'M051', 'M052', 'M053', 'M054', 'M055', 'M056', 'M057', 'M058', 'M059', 'M060', 'M061', 'M062', 'M063', 'SKA002', 'SKA003', 'SKA004', 'SKA005', 'SKA006', 'SKA007', 'SKA009', 'SKA010', 'SKA011', 'SKA012', 'SKA021', 'SKA022', 'SKA029', 'SKA044', 'SKA047', 'SKA052', 'SKA053', 'SKA054', 'SKA056', 'SKA057', 'SKA058', 'SKA059', 'SKA062', 'SKA064', 'SKA065', 'SKA066', 'SKA069', 'SKA071', 'SKA072', 'SKA073', 'SKA074', 'SKA076', 'SKA078', 'SKA080', 'SKA084', 'SKA085', 'SKA086', 'SKA087', 'SKA088', 'SKA090', 'SKA093', 'SKA094', 'SKA112', 'SKA120', 'SKA122', 'SKA124', 'SKA127', 'SKA128', 'SKA129', 'SKA130', 'SKA131', 'SKA132', 'SKA133']\n",
      "dask.array<getitem, shape=(197,), dtype=float32, chunksize=(197,), chunktype=numpy.ndarray>\n",
      "dask.array<array, shape=(307, 3), dtype=float32, chunksize=(307, 3), chunktype=numpy.ndarray>\n",
      "['S1-1', 'S1-2', 'S2-1', 'S2-2', 'S2-3', 'S3-1', 'S3-2', 'S4-1', 'S4-2', 'S4-3', 'S8-1', 'S8-2', 'S8-3', 'S8-4', 'S8-5', 'S8-6', 'S9-1', 'S9-2', 'S9-3', 'S9-4', 'S10-1', 'S10-2', 'S10-3', 'S10-4', 'S10-5', 'S10-6', 'S13-1', 'S13-2', 'S13-3', 'S13-4', 'S15-1', 'S15-2', 'S15-3', 'S15-4', 'S16-1', 'S16-2', 'S16-3', 'S16-4', 'N1-1', 'N1-2', 'N2-1', 'N2-2', 'N2-3', 'N3-1', 'N3-2', 'N3-3', 'N4-1', 'N4-2', 'N4-3', 'N8-1', 'N8-2', 'N8-3', 'N8-4', 'N9-1', 'N9-2', 'N9-3', 'N9-4', 'N10-1', 'N10-2', 'N10-3', 'N10-4', 'N13-1', 'N13-2', 'N13-3', 'N13-4', 'N15-1', 'N15-2', 'N15-3', 'N15-4', 'N16-1', 'N16-2', 'N16-3', 'N16-4', 'E1-1', 'E1-2', 'E2-1', 'E2-2', 'E2-3', 'E3-1', 'E3-2', 'E3-3', 'E4-1', 'E4-2', 'E4-3', 'E8-1', 'E8-2', 'E8-3', 'E8-4', 'E9-1', 'E9-2', 'E9-3', 'E9-4', 'E10-1', 'E10-2', 'E10-3', 'E10-4', 'E13-1', 'E13-2', 'E13-3', 'E13-4', 'E15-1', 'E15-2', 'E15-3', 'E15-4', 'E16-1', 'E16-2', 'E16-3', 'E16-4', 'C66', 'C111', 'C22', 'C69', 'C80', 'C30', 'C78', 'C91', 'C23', 'C36', 'C108', 'C52', 'C193', 'C16', 'C98', 'C56', 'C146', 'C70', 'C200', 'C57', 'C132', 'C62', 'C90', 'C73', 'C183', 'C176', 'C17', 'C88', 'C32', 'C31', 'C33', 'C89', 'C59', 'C165', 'C8', 'C158', 'C144', 'C72', 'C4', 'C167', 'C14', 'C185', 'C142', 'C19', 'C224', 'C7', 'C160', 'C74', 'C42', 'C171', 'C79', 'C96', 'C27', 'C75', 'C85', 'C212', 'C15', 'C63', 'C205', 'C24', 'C29', 'C25', 'C112', 'C187', 'C84', 'C1', 'C120', 'C175', 'C44', 'C38', 'C67', 'C54', 'C155', 'C49', 'C170', 'C87', 'C216', 'C105', 'C35', 'C156', 'C121', 'C86', 'C58', 'C150', 'C60', 'C143', 'C68', 'C151', 'C18', 'C45', 'C100', 'C76', 'C195', 'C107', 'C34', 'C172', 'C20', 'C64', 'C191', 'C115', 'C2', 'C125', 'C48', 'C71', 'C61', 'C130', 'C55', 'C202', 'C223', 'C140', 'C37', 'C41', 'C46', 'C139', 'C213', 'C104', 'C9', 'C99', 'C13', 'C192', 'C114', 'C204', 'C21', 'C12', 'C147', 'C82', 'C103', 'C138', 'C106', 'C11', 'C119', 'C6', 'C194', 'C5', 'C93', 'C168', 'C28', 'C197', 'C154', 'C26', 'C92', 'C110', 'C77', 'C50', 'C10', 'C53', 'C95', 'C166', 'C40', 'C128', 'C162', 'C113', 'C222', 'C129', 'C214', 'C102', 'C65', 'C109', 'C97', 'C123', 'C141', 'C39', 'C83', 'C148', 'C198', 'C81', 'C3', 'C135', 'C51', 'C145', 'C207', 'C149', 'C137', 'C43', 'C163', 'C101', 'C181', 'C180', 'C117', 'C206', 'C126', 'C177', 'C124', 'C133', 'C208', 'C190', 'C153', 'C164', 'C173', 'C219', 'C201', 'C184', 'C217', 'C203', 'C186', 'C199', 'C161', 'C179', 'C47']\n",
      "dask.array<getitem, shape=(307,), dtype=float32, chunksize=(307,), chunktype=numpy.ndarray>\n"
     ]
    }
   ],
   "source": [
    "from mid_subarray import MidSubArray\n",
    "from low_subarray import LowSubarray\n",
    "\n",
    "array = MidSubArray(\"AA4\")\n",
    "\n",
    "print(array.antenna_data)\n",
    "print(array.antenna_names)\n",
    "print(array.diameters)\n",
    "\n",
    "\n",
    "array2 = LowSubarray()\n",
    "\n",
    "print(array2.antenna_data)\n",
    "print(array2.antenna_names)\n",
    "print(array2.diameters)\n",
    "\n"
   ]
  },
  {
   "cell_type": "code",
   "execution_count": 3,
   "metadata": {},
   "outputs": [
    {
     "ename": "TypeError",
     "evalue": "Can't instantiate abstract class NameFilter with abstract method filter",
     "output_type": "error",
     "traceback": [
      "\u001b[1;31m---------------------------------------------------------------------------\u001b[0m",
      "\u001b[1;31mTypeError\u001b[0m                                 Traceback (most recent call last)",
      "Cell \u001b[1;32mIn[3], line 4\u001b[0m\n\u001b[0;32m      1\u001b[0m \u001b[38;5;28;01mfrom\u001b[39;00m \u001b[38;5;21;01mFilter\u001b[39;00m\u001b[38;5;21;01m.\u001b[39;00m\u001b[38;5;21;01mname_filter\u001b[39;00m \u001b[38;5;28;01mimport\u001b[39;00m NameFilter\n\u001b[1;32m----> 4\u001b[0m namefilter \u001b[38;5;241m=\u001b[39m \u001b[43mNameFilter\u001b[49m\u001b[43m(\u001b[49m\u001b[43marray\u001b[49m\u001b[43m)\u001b[49m\n",
      "\u001b[1;31mTypeError\u001b[0m: Can't instantiate abstract class NameFilter with abstract method filter"
     ]
    }
   ],
   "source": [
    "from Filter.name_filter import NameFilter\n",
    "\n",
    "\n",
    "namefilter = NameFilter(array)\n",
    "\n"
   ]
  }
 ],
 "metadata": {
  "kernelspec": {
   "display_name": "Python 3",
   "language": "python",
   "name": "python3"
  },
  "language_info": {
   "codemirror_mode": {
    "name": "ipython",
    "version": 3
   },
   "file_extension": ".py",
   "mimetype": "text/x-python",
   "name": "python",
   "nbconvert_exporter": "python",
   "pygments_lexer": "ipython3",
   "version": "3.10.0"
  }
 },
 "nbformat": 4,
 "nbformat_minor": 2
}
